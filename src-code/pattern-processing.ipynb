{
 "cells": [
  {
   "cell_type": "code",
   "execution_count": 7,
   "metadata": {},
   "outputs": [],
   "source": [
    "import os\n",
    "import librosa\n",
    "import soundfile as sf\n",
    "from scipy.io.wavfile import read\n"
   ]
  },
  {
   "cell_type": "code",
   "execution_count": 8,
   "metadata": {},
   "outputs": [],
   "source": [
    "absolute_path = os.path.dirname(\n",
    "    \"E:/SOFT/General_Subjects/artificial_intelligence/colab-tts-Bahnar/bahnar_tts/\")\n",
    "relative_path = \"pattern\"\n",
    "\n",
    "fullpath = os.path.join(absolute_path, relative_path)\n"
   ]
  },
  {
   "cell_type": "code",
   "execution_count": 9,
   "metadata": {},
   "outputs": [
    {
     "name": "stdout",
     "output_type": "stream",
     "text": [
      ".DS_Store\n",
      "AnhSon\n",
      "ChiBi\n"
     ]
    }
   ],
   "source": [
    "for count, filename in enumerate(os.listdir(fullpath)):\n",
    "    print(filename)\n"
   ]
  },
  {
   "cell_type": "code",
   "execution_count": 13,
   "metadata": {},
   "outputs": [],
   "source": [
    "def calc_distances(sound_file):\n",
    "    #The minimun value for the sound to be recognized as a knock\n",
    "    min_val = 5000\n",
    "    \n",
    "    fs, data = read(sound_file)\n",
    "    data_size = len(data)\n",
    "    \n",
    "    #The number of indexes on 0.15 seconds\n",
    "    focus_size = int(0.15 * fs)\n",
    "    \n",
    "    focuses = []\n",
    "    distances = []\n",
    "    idx = 0\n",
    "    \n",
    "    while idx < len(data):\n",
    "        if data[idx] > min_val:\n",
    "            mean_idx = idx + focus_size // 2\n",
    "            focuses.append(float(mean_idx) / data_size)\n",
    "            if len(focuses) > 1:\n",
    "                last_focus = focuses[-2]\n",
    "                actual_focus = focuses[-1]\n",
    "                distances.append(actual_focus - last_focus)\n",
    "            idx += focus_size\n",
    "        else:\n",
    "            idx += 1\n",
    "    return distances"
   ]
  },
  {
   "cell_type": "code",
   "execution_count": 14,
   "metadata": {},
   "outputs": [],
   "source": [
    "def accept_test(pattern, test, min_error):\n",
    "    if len(pattern) > len(test):\n",
    "        return False\n",
    "    for i, dt in enumerate(pattern):\n",
    "        if not dt - test[i] < min_error:\n",
    "            return False\n",
    "    return True"
   ]
  },
  {
   "attachments": {},
   "cell_type": "markdown",
   "metadata": {},
   "source": [
    "### Process AnhSon's audio files"
   ]
  },
  {
   "cell_type": "code",
   "execution_count": 12,
   "metadata": {},
   "outputs": [
    {
     "name": "stdout",
     "output_type": "stream",
     "text": [
      "E:/SOFT/General_Subjects/artificial_intelligence/colab-tts-Bahnar/bahnar_tts\\pattern\\AnhSon\\conv-wav\\test.wav\n",
      "E:/SOFT/General_Subjects/artificial_intelligence/colab-tts-Bahnar/bahnar_tts\\pattern\\AnhSon\\conv-wav\\test1.wav\n",
      "E:/SOFT/General_Subjects/artificial_intelligence/colab-tts-Bahnar/bahnar_tts\\pattern\\AnhSon\\conv-wav\\test2.wav\n",
      "E:/SOFT/General_Subjects/artificial_intelligence/colab-tts-Bahnar/bahnar_tts\\pattern\\AnhSon\\conv-wav\\test3.wav\n",
      "E:/SOFT/General_Subjects/artificial_intelligence/colab-tts-Bahnar/bahnar_tts\\pattern\\AnhSon\\conv-wav\\test4.wav\n",
      "E:/SOFT/General_Subjects/artificial_intelligence/colab-tts-Bahnar/bahnar_tts\\pattern\\AnhSon\\conv-wav\\test5.wav\n",
      "E:/SOFT/General_Subjects/artificial_intelligence/colab-tts-Bahnar/bahnar_tts\\pattern\\AnhSon\\conv-wav\\test6.wav\n",
      "E:/SOFT/General_Subjects/artificial_intelligence/colab-tts-Bahnar/bahnar_tts\\pattern\\AnhSon\\conv-wav\\test7.wav\n"
     ]
    }
   ],
   "source": [
    "for count, filename in enumerate(os.listdir(fullpath)):\n",
    "    if filename == \"AnhSon\":\n",
    "        subpath = os.path.join(fullpath, filename)\n",
    "        for c, f in enumerate(os.listdir(subpath)):\n",
    "            if f == \"conv-wav\":\n",
    "                subsubpath = os.path.join(subpath,f)\n",
    "                for c1, f1 in enumerate(os.listdir(subsubpath)):\n",
    "                    if f1.endswith('wav'):\n",
    "                        audiopath = os.path.join(subsubpath, f1)\n",
    "                        print(audiopath)\n",
    "                        fs, data = read(audiopath)\n",
    "                        # we will use the size of the array\n",
    "                        # to determine the duration of the sound\n",
    "                        data_size = len(data)\n",
    "\n",
    "                        pattern = calc_distances(f1)\n",
    "                        "
   ]
  },
  {
   "cell_type": "code",
   "execution_count": null,
   "metadata": {},
   "outputs": [],
   "source": []
  }
 ],
 "metadata": {
  "kernelspec": {
   "display_name": "Python 3",
   "language": "python",
   "name": "python3"
  },
  "language_info": {
   "codemirror_mode": {
    "name": "ipython",
    "version": 3
   },
   "file_extension": ".py",
   "mimetype": "text/x-python",
   "name": "python",
   "nbconvert_exporter": "python",
   "pygments_lexer": "ipython3",
   "version": "3.10.9"
  },
  "orig_nbformat": 4,
  "vscode": {
   "interpreter": {
    "hash": "486e0d5a79acdbfffd563ee7a67a93a5017bd2a4f66495483a69f0245c8a4a6c"
   }
  }
 },
 "nbformat": 4,
 "nbformat_minor": 2
}
