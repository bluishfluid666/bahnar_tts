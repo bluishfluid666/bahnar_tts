{
 "cells": [
  {
   "cell_type": "code",
   "execution_count": 24,
   "metadata": {},
   "outputs": [],
   "source": [
    "import os\n",
    "import librosa\n",
    "import matplotlib.pyplot as plt\n",
    "import soundfile as sf\n",
    "from scipy.io import wavfile\n",
    "import noisereduce as nr\n",
    "from scipy.io.wavfile import read\n",
    "from sklearn.neighbors import KNeighborsClassifier\n"
   ]
  },
  {
   "cell_type": "code",
   "execution_count": 25,
   "metadata": {},
   "outputs": [],
   "source": [
    "absolute_path = os.path.dirname(\n",
    "    \"E:/SOFT/General_Subjects/artificial_intelligence/colab-tts-Bahnar/bahnar_tts/\")\n",
    "relative_path = \"pattern\"\n",
    "\n",
    "fullpath = os.path.join(absolute_path, relative_path)\n"
   ]
  },
  {
   "cell_type": "code",
   "execution_count": 26,
   "metadata": {},
   "outputs": [
    {
     "name": "stdout",
     "output_type": "stream",
     "text": [
      ".DS_Store\n",
      "AnhSon\n",
      "ChiBi\n"
     ]
    }
   ],
   "source": [
    "for count, filename in enumerate(os.listdir(fullpath)):\n",
    "    print(filename)\n"
   ]
  },
  {
   "cell_type": "code",
   "execution_count": 27,
   "metadata": {},
   "outputs": [],
   "source": [
    "def calc_distances(sound_file):\n",
    "    #The minimun value for the sound to be recognized as a knock\n",
    "    min_val = 5000\n",
    "    \n",
    "    fs, data = read(sound_file)\n",
    "    data_size = len(data)\n",
    "    \n",
    "    #The number of indexes on 0.15 seconds\n",
    "    focus_size = int(0.15 * fs)\n",
    "    \n",
    "    focuses = []\n",
    "    distances = []\n",
    "    idx = 0\n",
    "    \n",
    "    while idx < len(data):\n",
    "        if data[idx] > min_val:\n",
    "            mean_idx = idx + focus_size // 2\n",
    "            focuses.append(float(mean_idx) / data_size)\n",
    "            if len(focuses) > 1:\n",
    "                last_focus = focuses[-2]\n",
    "                actual_focus = focuses[-1]\n",
    "                distances.append(actual_focus - last_focus)\n",
    "            idx += focus_size\n",
    "        else:\n",
    "            idx += 1\n",
    "    return distances"
   ]
  },
  {
   "cell_type": "code",
   "execution_count": 28,
   "metadata": {},
   "outputs": [],
   "source": [
    "def accept_test(pattern, test, min_error):\n",
    "    if len(pattern) > len(test):\n",
    "        return False\n",
    "    for i, dt in enumerate(pattern):\n",
    "        if not dt - test[i] < min_error:\n",
    "            return False\n",
    "    return True"
   ]
  },
  {
   "attachments": {},
   "cell_type": "markdown",
   "metadata": {},
   "source": [
    "### plot wav files"
   ]
  },
  {
   "cell_type": "code",
   "execution_count": null,
   "metadata": {},
   "outputs": [],
   "source": [
    "x = 0\n",
    "y = 0\n",
    "fig, axes = plt.subplots(4, 4, figsize=(20, 10))\n",
    "\n",
    "for count, filename in enumerate(os.listdir(fullpath)):\n",
    "    if filename == \"AnhSon\" or filename == \"ChiBi\":\n",
    "        subpath = os.path.join(fullpath, filename)\n",
    "        for c, f in enumerate(os.listdir(subpath)):\n",
    "            if f == \"conv-wav\":\n",
    "                subsubpath = os.path.join(subpath, f)\n",
    "                for c1, f1 in enumerate(os.listdir(subsubpath)):\n",
    "                    audiopath = os.path.join(subsubpath, f1)\n",
    "                    print(audiopath)\n",
    "                    fs, data = read(audiopath)\n",
    "                    input_data = read(audiopath)\n",
    "                    audio = input_data[1]\n",
    "                    axes[x, y].plot(audio)\n",
    "\n",
    "                    # load data\n",
    "                    r, d = wavfile.read(f\"{audiopath}\")\n",
    "                    # perform noise reduction\n",
    "                    reduced_noise = nr.reduce_noise(y=d, sr=r)\n",
    "                    wavfile.write(f\"{subpath}/reduce-noise/test{c1}.wav\", r, reduced_noise)\n",
    "\n",
    "                    # do a comparison of the reduced noise files\n",
    "                    adjusted_filepath = os.path.join(subpath, \"reduce-noise\")\n",
    "                    adjusted_filepath = os.path.join(adjusted_filepath, f\"test{c1}.wav\")\n",
    "                    fs, data = read(adjusted_filepath)\n",
    "                    input_data = read(adjusted_filepath)\n",
    "                    audio = input_data[1]\n",
    "                    axes[x, y].plot(audio)\n",
    "\n",
    "                    y = y + 1\n",
    "                    if y == 4:\n",
    "                        y = 0\n",
    "                        x = x + 1\n",
    "\n"
   ]
  },
  {
   "attachments": {},
   "cell_type": "markdown",
   "metadata": {},
   "source": [
    "### detect dataset filepath"
   ]
  },
  {
   "cell_type": "code",
   "execution_count": null,
   "metadata": {},
   "outputs": [],
   "source": [
    "dataset = os.path.join(absolute_path, 'dataset')\n",
    "for count, filename in enumerate(os.listdir(dataset)):\n",
    "    print(filename)"
   ]
  },
  {
   "attachments": {},
   "cell_type": "markdown",
   "metadata": {},
   "source": [
    "### Process AnhSon's audio files"
   ]
  },
  {
   "cell_type": "code",
   "execution_count": null,
   "metadata": {},
   "outputs": [],
   "source": [
    "for count, filename in enumerate(os.listdir(fullpath)):\n",
    "    if filename == \"AnhSon\":\n",
    "        subpath = os.path.join(fullpath, filename)\n",
    "        for c, f in enumerate(os.listdir(subpath)):\n",
    "            if f == \"reduce-noise\":\n",
    "                subsubpath = os.path.join(subpath,f)\n",
    "                for c1, f1 in enumerate(os.listdir(subsubpath)):\n",
    "                    if f1.endswith('wav'):\n",
    "                        audiopath = os.path.join(subsubpath, f1)\n",
    "                        print(audiopath)\n",
    "                        fs, data = read(audiopath)\n",
    "                        # we will use the size of the array\n",
    "                        # to determine the duration of the sound\n",
    "                        data_size = len(data)\n",
    "\n",
    "                        # build k-nearest neighbors\n",
    "                        # ...\n",
    "\n",
    "                        pattern = calc_distances(f1)\n",
    "                        test = calc_distances( ) #filename to be processed\n",
    "\n",
    "                        min_error = 0.1\n",
    "                        \n",
    "                        print(accept_test(pattern, test, min_error))"
   ]
  },
  {
   "attachments": {},
   "cell_type": "markdown",
   "metadata": {},
   "source": [
    "### plot wav files"
   ]
  },
  {
   "attachments": {},
   "cell_type": "markdown",
   "metadata": {},
   "source": [
    "### noise reducion"
   ]
  }
 ],
 "metadata": {
  "kernelspec": {
   "display_name": "Python 3",
   "language": "python",
   "name": "python3"
  },
  "language_info": {
   "codemirror_mode": {
    "name": "ipython",
    "version": 3
   },
   "file_extension": ".py",
   "mimetype": "text/x-python",
   "name": "python",
   "nbconvert_exporter": "python",
   "pygments_lexer": "ipython3",
   "version": "3.10.9"
  },
  "orig_nbformat": 4,
  "vscode": {
   "interpreter": {
    "hash": "486e0d5a79acdbfffd563ee7a67a93a5017bd2a4f66495483a69f0245c8a4a6c"
   }
  }
 },
 "nbformat": 4,
 "nbformat_minor": 2
}
