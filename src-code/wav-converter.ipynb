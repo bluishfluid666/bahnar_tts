{
 "cells": [
  {
   "cell_type": "code",
   "execution_count": 18,
   "metadata": {},
   "outputs": [],
   "source": [
    "import os\n",
    "import pydub\n",
    "import librosa\n",
    "from os import path\n",
    "from pydub import AudioSegment"
   ]
  },
  {
   "cell_type": "code",
   "execution_count": 19,
   "metadata": {},
   "outputs": [],
   "source": [
    "absolute_path = os.path.dirname(\"E:/SOFT/General_Subjects/artificial_intelligence/colab-tts-Bahnar/bahnar_tts/\")\n",
    "relative_path = \"pattern\"\n",
    "\n",
    "fullpath = os.path.join(absolute_path,relative_path)\n",
    "pydub.AudioSegment.ffmpeg = \"C:/ffmpeg/\""
   ]
  },
  {
   "attachments": {},
   "cell_type": "markdown",
   "metadata": {},
   "source": [
    "### convert mp3 to wav file"
   ]
  },
  {
   "cell_type": "code",
   "execution_count": 20,
   "metadata": {},
   "outputs": [],
   "source": [
    "for count, filename in enumerate(os.listdir(fullpath)):\n",
    "    # list all possible audio files in the directory\n",
    "    if filename == \"AnhSon\" or filename == \"ChiBi\":\n",
    "        subpath = os.path.join(fullpath, filename)\n",
    "        for c, f in enumerate(os.listdir(subpath)):\n",
    "            # print(f)\n",
    "            if f.endswith('mp3'):\n",
    "                # check if the file ends with a 'mp3' extension\n",
    "                convert_folder = \"conv-wav\"\n",
    "                # convert the file into a wav file\n",
    "                # print(c - 1)\n",
    "                sound = AudioSegment.from_mp3(os.path.join(subpath, f))\n",
    "                sound.export(f\"{os.path.join(subpath, convert_folder)}/test{c - 1}.wav\", format=\"wav\")"
   ]
  }
 ],
 "metadata": {
  "kernelspec": {
   "display_name": "Python 3",
   "language": "python",
   "name": "python3"
  },
  "language_info": {
   "codemirror_mode": {
    "name": "ipython",
    "version": 3
   },
   "file_extension": ".py",
   "mimetype": "text/x-python",
   "name": "python",
   "nbconvert_exporter": "python",
   "pygments_lexer": "ipython3",
   "version": "3.10.9"
  },
  "orig_nbformat": 4,
  "vscode": {
   "interpreter": {
    "hash": "486e0d5a79acdbfffd563ee7a67a93a5017bd2a4f66495483a69f0245c8a4a6c"
   }
  }
 },
 "nbformat": 4,
 "nbformat_minor": 2
}
